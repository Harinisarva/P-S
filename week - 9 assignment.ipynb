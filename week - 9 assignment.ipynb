{
  "nbformat": 4,
  "nbformat_minor": 0,
  "metadata": {
    "colab": {
      "provenance": [],
      "authorship_tag": "ABX9TyOCU16AZIGkve3FdYPTtenM",
      "include_colab_link": true
    },
    "kernelspec": {
      "name": "python3",
      "display_name": "Python 3"
    },
    "language_info": {
      "name": "python"
    }
  },
  "cells": [
    {
      "cell_type": "markdown",
      "metadata": {
        "id": "view-in-github",
        "colab_type": "text"
      },
      "source": [
        "<a href=\"https://colab.research.google.com/github/Harinisarva/P-S/blob/main/week%20-%209%20assignment.ipynb\" target=\"_parent\"><img src=\"https://colab.research.google.com/assets/colab-badge.svg\" alt=\"Open In Colab\"/></a>"
      ]
    },
    {
      "cell_type": "code",
      "execution_count": 4,
      "metadata": {
        "colab": {
          "base_uri": "https://localhost:8080/"
        },
        "id": "H3BeXMD8olep",
        "outputId": "85878fca-f8fa-485e-eaff-3e955568f9ab"
      },
      "outputs": [
        {
          "output_type": "stream",
          "name": "stdout",
          "text": [
            "T-statistic: 1.8708286933869707\n",
            "P-value: 0.09417408579146237\n",
            "Fail to reject the null hypothesis. There is no significant difference between the population mean and 75.\n"
          ]
        }
      ],
      "source": [
        "import numpy as np\n",
        "from scipy import stats\n",
        "sample_score=[80,85,90,70,60,75,85,80,95,100]\n",
        "population_mean=75\n",
        "t_stat,p_value=stats.ttest_1samp(sample_score,population_mean)\n",
        "print(f\"T-statistic: {t_stat}\")\n",
        "print(f\"P-value: {p_value}\")\n",
        "alpha=0.05\n",
        "if p_value<alpha:\n",
        "    print(\"Reject the null hypothesis. The sample mean is significantly different from 75.\")\n",
        "else:\n",
        "    print(\"Fail to reject the null hypothesis. There is no significant difference between the population mean and 75.\")\n"
      ]
    }
  ]
}